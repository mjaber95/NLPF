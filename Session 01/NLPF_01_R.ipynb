{
  "nbformat": 4,
  "nbformat_minor": 0,
  "metadata": {
    "colab": {
      "name": "NLPF-01-R",
      "provenance": [],
      "authorship_tag": "ABX9TyPpU+LWr1yUG+tV1b13mY5h",
      "include_colab_link": true
    },
    "kernelspec": {
      "name": "ir",
      "display_name": "R"
    },
    "language_info": {
      "name": "R"
    }
  },
  "cells": [
    {
      "cell_type": "markdown",
      "metadata": {
        "id": "view-in-github",
        "colab_type": "text"
      },
      "source": [
        "<a href=\"https://colab.research.google.com/github/satuelisa/NLPF/blob/main/NLPF_01_R.ipynb\" target=\"_parent\"><img src=\"https://colab.research.google.com/assets/colab-badge.svg\" alt=\"Open In Colab\"/></a>"
      ]
    },
    {
      "cell_type": "code",
      "execution_count": 2,
      "metadata": {
        "id": "pM2QwdGj-drW",
        "colab": {
          "base_uri": "https://localhost:8080/"
        },
        "outputId": "0a72b4a3-6106-4fef-bbff-5127baa214be"
      },
      "outputs": [
        {
          "output_type": "stream",
          "name": "stderr",
          "text": [
            "Installing package into ‘/usr/local/lib/R/site-library’\n",
            "(as ‘lib’ is unspecified)\n",
            "\n",
            "also installing the dependencies ‘Rcpp’, ‘triebeard’, ‘urltools’, ‘lazyeval’\n",
            "\n",
            "\n",
            "\n",
            "Attaching package: ‘dplyr’\n",
            "\n",
            "\n",
            "The following objects are masked from ‘package:stats’:\n",
            "\n",
            "    filter, lag\n",
            "\n",
            "\n",
            "The following objects are masked from ‘package:base’:\n",
            "\n",
            "    intersect, setdiff, setequal, union\n",
            "\n",
            "\n"
          ]
        }
      ],
      "source": [
        "install.packages('gutenbergr') # check https://cran.r-project.org/web/packages/gutenbergr/vignettes/intro.html for documentation, this is like using pip in python\n",
        "library(gutenbergr)"
      ]
    },
    {
      "cell_type": "code",
      "source": [
        "mirror <- \"http://mirrors.xmission.com/gutenberg/\"\n",
        "book <- gutenberg_download(768, mirror = mirror) # this one is Wuthering Heights"
      ],
      "metadata": {
        "id": "OLDRH8cvkKsT"
      },
      "execution_count": 7,
      "outputs": []
    },
    {
      "cell_type": "markdown",
      "source": [
        "What did we get, actually? We can uyuse *head* and *tail* to look at how it starts and ends."
      ],
      "metadata": {
        "id": "mbEfOQF6lRXm"
      }
    },
    {
      "cell_type": "code",
      "source": [
        "head(book)\n",
        "tail(book)"
      ],
      "metadata": {
        "colab": {
          "base_uri": "https://localhost:8080/",
          "height": 556
        },
        "id": "_vG_BWPElTAw",
        "outputId": "1dffcd78-980e-4618-f53a-ba9d6a22ab11"
      },
      "execution_count": 13,
      "outputs": [
        {
          "output_type": "display_data",
          "data": {
            "text/html": [
              "<table class=\"dataframe\">\n",
              "<caption>A tibble: 6 × 2</caption>\n",
              "<thead>\n",
              "\t<tr><th scope=col>gutenberg_id</th><th scope=col>text</th></tr>\n",
              "\t<tr><th scope=col>&lt;int&gt;</th><th scope=col>&lt;chr&gt;</th></tr>\n",
              "</thead>\n",
              "<tbody>\n",
              "\t<tr><td>768</td><td>Wuthering Heights</td></tr>\n",
              "\t<tr><td>768</td><td>                 </td></tr>\n",
              "\t<tr><td>768</td><td>by Emily Brontë  </td></tr>\n",
              "\t<tr><td>768</td><td>                 </td></tr>\n",
              "\t<tr><td>768</td><td>                 </td></tr>\n",
              "\t<tr><td>768</td><td>                 </td></tr>\n",
              "</tbody>\n",
              "</table>\n"
            ],
            "text/markdown": "\nA tibble: 6 × 2\n\n| gutenberg_id &lt;int&gt; | text &lt;chr&gt; |\n|---|---|\n| 768 | Wuthering Heights |\n| 768 | <!----> |\n| 768 | by Emily Brontë   |\n| 768 | <!----> |\n| 768 | <!----> |\n| 768 | <!----> |\n\n",
            "text/latex": "A tibble: 6 × 2\n\\begin{tabular}{ll}\n gutenberg\\_id & text\\\\\n <int> & <chr>\\\\\n\\hline\n\t 768 & Wuthering Heights\\\\\n\t 768 &                  \\\\\n\t 768 & by Emily Brontë  \\\\\n\t 768 &                  \\\\\n\t 768 &                  \\\\\n\t 768 &                  \\\\\n\\end{tabular}\n",
            "text/plain": [
              "  gutenberg_id text             \n",
              "1 768          Wuthering Heights\n",
              "2 768                           \n",
              "3 768          by Emily Brontë  \n",
              "4 768                           \n",
              "5 768                           \n",
              "6 768                           "
            ]
          },
          "metadata": {}
        },
        {
          "output_type": "display_data",
          "data": {
            "text/html": [
              "<table class=\"dataframe\">\n",
              "<caption>A tibble: 6 × 2</caption>\n",
              "<thead>\n",
              "\t<tr><th scope=col>gutenberg_id</th><th scope=col>text</th></tr>\n",
              "\t<tr><th scope=col>&lt;int&gt;</th><th scope=col>&lt;chr&gt;</th></tr>\n",
              "</thead>\n",
              "<tbody>\n",
              "\t<tr><td>768</td><td>still bare.                                                        </td></tr>\n",
              "\t<tr><td>768</td><td>                                                                   </td></tr>\n",
              "\t<tr><td>768</td><td>I lingered round them, under that benign sky: watched the moths    </td></tr>\n",
              "\t<tr><td>768</td><td>fluttering among the heath and harebells, listened to the soft wind</td></tr>\n",
              "\t<tr><td>768</td><td>breathing through the grass, and wondered how any one could ever   </td></tr>\n",
              "\t<tr><td>768</td><td>imagine unquiet slumbers for the sleepers in that quiet earth.     </td></tr>\n",
              "</tbody>\n",
              "</table>\n"
            ],
            "text/markdown": "\nA tibble: 6 × 2\n\n| gutenberg_id &lt;int&gt; | text &lt;chr&gt; |\n|---|---|\n| 768 | still bare.                                                         |\n| 768 | <!----> |\n| 768 | I lingered round them, under that benign sky: watched the moths     |\n| 768 | fluttering among the heath and harebells, listened to the soft wind |\n| 768 | breathing through the grass, and wondered how any one could ever    |\n| 768 | imagine unquiet slumbers for the sleepers in that quiet earth.      |\n\n",
            "text/latex": "A tibble: 6 × 2\n\\begin{tabular}{ll}\n gutenberg\\_id & text\\\\\n <int> & <chr>\\\\\n\\hline\n\t 768 & still bare.                                                        \\\\\n\t 768 &                                                                    \\\\\n\t 768 & I lingered round them, under that benign sky: watched the moths    \\\\\n\t 768 & fluttering among the heath and harebells, listened to the soft wind\\\\\n\t 768 & breathing through the grass, and wondered how any one could ever   \\\\\n\t 768 & imagine unquiet slumbers for the sleepers in that quiet earth.     \\\\\n\\end{tabular}\n",
            "text/plain": [
              "  gutenberg_id\n",
              "1 768         \n",
              "2 768         \n",
              "3 768         \n",
              "4 768         \n",
              "5 768         \n",
              "6 768         \n",
              "  text                                                               \n",
              "1 still bare.                                                        \n",
              "2                                                                    \n",
              "3 I lingered round them, under that benign sky: watched the moths    \n",
              "4 fluttering among the heath and harebells, listened to the soft wind\n",
              "5 breathing through the grass, and wondered how any one could ever   \n",
              "6 imagine unquiet slumbers for the sleepers in that quiet earth.     "
            ]
          },
          "metadata": {}
        }
      ]
    },
    {
      "cell_type": "markdown",
      "source": [
        "So, we have a... *tibble*? It seems to contain one line of text per row. The textbook points us towards the *tidytext* library to chop this into chapters like we did in Python for *Pride and Prejudice*."
      ],
      "metadata": {
        "id": "0M_YC7ldlieR"
      }
    },
    {
      "cell_type": "code",
      "source": [
        "install.packages(\"tidytext\")"
      ],
      "metadata": {
        "colab": {
          "base_uri": "https://localhost:8080/"
        },
        "id": "HGuiyjsclxJy",
        "outputId": "2d5081b2-a19f-4288-f216-b9b7daf3b12f"
      },
      "execution_count": 14,
      "outputs": [
        {
          "output_type": "stream",
          "name": "stderr",
          "text": [
            "Installing package into ‘/usr/local/lib/R/site-library’\n",
            "(as ‘lib’ is unspecified)\n",
            "\n"
          ]
        }
      ]
    },
    {
      "cell_type": "code",
      "source": [
        "library(tidytext)\n",
        "library(dplyr) # should be pre-installed\n",
        "library(stringr) # as should this"
      ],
      "metadata": {
        "id": "opLGTz-fnCzp"
      },
      "execution_count": 15,
      "outputs": []
    },
    {
      "cell_type": "code",
      "source": [
        "clean <- book %>% mutate(linenumber = row_number(), chapter = cumsum(str_detect(text, regex(\"^chapter [\\\\divxlc]\", ignore_case = TRUE))))\n",
        "# that %>% is just the R way to write \"forward pipe\", much like | in linux\n",
        "head(clean)\n",
        "tail(clean)\n",
        "max(clean$chapter)"
      ],
      "metadata": {
        "colab": {
          "base_uri": "https://localhost:8080/",
          "height": 573
        },
        "id": "ROONKhHtnC-4",
        "outputId": "470fd020-8d17-42c0-e30a-72e36b738cf8"
      },
      "execution_count": 55,
      "outputs": [
        {
          "output_type": "display_data",
          "data": {
            "text/html": [
              "<table class=\"dataframe\">\n",
              "<caption>A tibble: 6 × 4</caption>\n",
              "<thead>\n",
              "\t<tr><th scope=col>gutenberg_id</th><th scope=col>text</th><th scope=col>linenumber</th><th scope=col>chapter</th></tr>\n",
              "\t<tr><th scope=col>&lt;int&gt;</th><th scope=col>&lt;chr&gt;</th><th scope=col>&lt;int&gt;</th><th scope=col>&lt;int&gt;</th></tr>\n",
              "</thead>\n",
              "<tbody>\n",
              "\t<tr><td>768</td><td>Wuthering Heights</td><td>1</td><td>0</td></tr>\n",
              "\t<tr><td>768</td><td>                 </td><td>2</td><td>0</td></tr>\n",
              "\t<tr><td>768</td><td>by Emily Brontë  </td><td>3</td><td>0</td></tr>\n",
              "\t<tr><td>768</td><td>                 </td><td>4</td><td>0</td></tr>\n",
              "\t<tr><td>768</td><td>                 </td><td>5</td><td>0</td></tr>\n",
              "\t<tr><td>768</td><td>                 </td><td>6</td><td>0</td></tr>\n",
              "</tbody>\n",
              "</table>\n"
            ],
            "text/markdown": "\nA tibble: 6 × 4\n\n| gutenberg_id &lt;int&gt; | text &lt;chr&gt; | linenumber &lt;int&gt; | chapter &lt;int&gt; |\n|---|---|---|---|\n| 768 | Wuthering Heights | 1 | 0 |\n| 768 | <!----> | 2 | 0 |\n| 768 | by Emily Brontë   | 3 | 0 |\n| 768 | <!----> | 4 | 0 |\n| 768 | <!----> | 5 | 0 |\n| 768 | <!----> | 6 | 0 |\n\n",
            "text/latex": "A tibble: 6 × 4\n\\begin{tabular}{llll}\n gutenberg\\_id & text & linenumber & chapter\\\\\n <int> & <chr> & <int> & <int>\\\\\n\\hline\n\t 768 & Wuthering Heights & 1 & 0\\\\\n\t 768 &                   & 2 & 0\\\\\n\t 768 & by Emily Brontë   & 3 & 0\\\\\n\t 768 &                   & 4 & 0\\\\\n\t 768 &                   & 5 & 0\\\\\n\t 768 &                   & 6 & 0\\\\\n\\end{tabular}\n",
            "text/plain": [
              "  gutenberg_id text              linenumber chapter\n",
              "1 768          Wuthering Heights 1          0      \n",
              "2 768                            2          0      \n",
              "3 768          by Emily Brontë   3          0      \n",
              "4 768                            4          0      \n",
              "5 768                            5          0      \n",
              "6 768                            6          0      "
            ]
          },
          "metadata": {}
        },
        {
          "output_type": "display_data",
          "data": {
            "text/html": [
              "<table class=\"dataframe\">\n",
              "<caption>A tibble: 6 × 4</caption>\n",
              "<thead>\n",
              "\t<tr><th scope=col>gutenberg_id</th><th scope=col>text</th><th scope=col>linenumber</th><th scope=col>chapter</th></tr>\n",
              "\t<tr><th scope=col>&lt;int&gt;</th><th scope=col>&lt;chr&gt;</th><th scope=col>&lt;int&gt;</th><th scope=col>&lt;int&gt;</th></tr>\n",
              "</thead>\n",
              "<tbody>\n",
              "\t<tr><td>768</td><td>still bare.                                                        </td><td>12337</td><td>34</td></tr>\n",
              "\t<tr><td>768</td><td>                                                                   </td><td>12338</td><td>34</td></tr>\n",
              "\t<tr><td>768</td><td>I lingered round them, under that benign sky: watched the moths    </td><td>12339</td><td>34</td></tr>\n",
              "\t<tr><td>768</td><td>fluttering among the heath and harebells, listened to the soft wind</td><td>12340</td><td>34</td></tr>\n",
              "\t<tr><td>768</td><td>breathing through the grass, and wondered how any one could ever   </td><td>12341</td><td>34</td></tr>\n",
              "\t<tr><td>768</td><td>imagine unquiet slumbers for the sleepers in that quiet earth.     </td><td>12342</td><td>34</td></tr>\n",
              "</tbody>\n",
              "</table>\n"
            ],
            "text/markdown": "\nA tibble: 6 × 4\n\n| gutenberg_id &lt;int&gt; | text &lt;chr&gt; | linenumber &lt;int&gt; | chapter &lt;int&gt; |\n|---|---|---|---|\n| 768 | still bare.                                                         | 12337 | 34 |\n| 768 | <!----> | 12338 | 34 |\n| 768 | I lingered round them, under that benign sky: watched the moths     | 12339 | 34 |\n| 768 | fluttering among the heath and harebells, listened to the soft wind | 12340 | 34 |\n| 768 | breathing through the grass, and wondered how any one could ever    | 12341 | 34 |\n| 768 | imagine unquiet slumbers for the sleepers in that quiet earth.      | 12342 | 34 |\n\n",
            "text/latex": "A tibble: 6 × 4\n\\begin{tabular}{llll}\n gutenberg\\_id & text & linenumber & chapter\\\\\n <int> & <chr> & <int> & <int>\\\\\n\\hline\n\t 768 & still bare.                                                         & 12337 & 34\\\\\n\t 768 &                                                                     & 12338 & 34\\\\\n\t 768 & I lingered round them, under that benign sky: watched the moths     & 12339 & 34\\\\\n\t 768 & fluttering among the heath and harebells, listened to the soft wind & 12340 & 34\\\\\n\t 768 & breathing through the grass, and wondered how any one could ever    & 12341 & 34\\\\\n\t 768 & imagine unquiet slumbers for the sleepers in that quiet earth.      & 12342 & 34\\\\\n\\end{tabular}\n",
            "text/plain": [
              "  gutenberg_id\n",
              "1 768         \n",
              "2 768         \n",
              "3 768         \n",
              "4 768         \n",
              "5 768         \n",
              "6 768         \n",
              "  text                                                               \n",
              "1 still bare.                                                        \n",
              "2                                                                    \n",
              "3 I lingered round them, under that benign sky: watched the moths    \n",
              "4 fluttering among the heath and harebells, listened to the soft wind\n",
              "5 breathing through the grass, and wondered how any one could ever   \n",
              "6 imagine unquiet slumbers for the sleepers in that quiet earth.     \n",
              "  linenumber chapter\n",
              "1 12337      34     \n",
              "2 12338      34     \n",
              "3 12339      34     \n",
              "4 12340      34     \n",
              "5 12341      34     \n",
              "6 12342      34     "
            ]
          },
          "metadata": {}
        },
        {
          "output_type": "display_data",
          "data": {
            "text/html": [
              "34"
            ],
            "text/markdown": "34",
            "text/latex": "34",
            "text/plain": [
              "[1] 34"
            ]
          },
          "metadata": {}
        }
      ]
    },
    {
      "cell_type": "code",
      "source": [
        "tidy <- clean %>% unnest_tokens(word, text)\n",
        "head(tidy)\n",
        "tail(tidy)"
      ],
      "metadata": {
        "colab": {
          "base_uri": "https://localhost:8080/",
          "height": 556
        },
        "id": "2Ip7Ugh-nmKE",
        "outputId": "80d36316-0b25-447d-e90f-8ae3252fc38d"
      },
      "execution_count": 18,
      "outputs": [
        {
          "output_type": "display_data",
          "data": {
            "text/html": [
              "<table class=\"dataframe\">\n",
              "<caption>A tibble: 6 × 4</caption>\n",
              "<thead>\n",
              "\t<tr><th scope=col>gutenberg_id</th><th scope=col>linenumber</th><th scope=col>chapter</th><th scope=col>word</th></tr>\n",
              "\t<tr><th scope=col>&lt;int&gt;</th><th scope=col>&lt;int&gt;</th><th scope=col>&lt;int&gt;</th><th scope=col>&lt;chr&gt;</th></tr>\n",
              "</thead>\n",
              "<tbody>\n",
              "\t<tr><td>768</td><td>1</td><td>0</td><td>wuthering</td></tr>\n",
              "\t<tr><td>768</td><td>1</td><td>0</td><td>heights  </td></tr>\n",
              "\t<tr><td>768</td><td>3</td><td>0</td><td>by       </td></tr>\n",
              "\t<tr><td>768</td><td>3</td><td>0</td><td>emily    </td></tr>\n",
              "\t<tr><td>768</td><td>3</td><td>0</td><td>brontë   </td></tr>\n",
              "\t<tr><td>768</td><td>8</td><td>1</td><td>chapter  </td></tr>\n",
              "</tbody>\n",
              "</table>\n"
            ],
            "text/markdown": "\nA tibble: 6 × 4\n\n| gutenberg_id &lt;int&gt; | linenumber &lt;int&gt; | chapter &lt;int&gt; | word &lt;chr&gt; |\n|---|---|---|---|\n| 768 | 1 | 0 | wuthering |\n| 768 | 1 | 0 | heights   |\n| 768 | 3 | 0 | by        |\n| 768 | 3 | 0 | emily     |\n| 768 | 3 | 0 | brontë    |\n| 768 | 8 | 1 | chapter   |\n\n",
            "text/latex": "A tibble: 6 × 4\n\\begin{tabular}{llll}\n gutenberg\\_id & linenumber & chapter & word\\\\\n <int> & <int> & <int> & <chr>\\\\\n\\hline\n\t 768 & 1 & 0 & wuthering\\\\\n\t 768 & 1 & 0 & heights  \\\\\n\t 768 & 3 & 0 & by       \\\\\n\t 768 & 3 & 0 & emily    \\\\\n\t 768 & 3 & 0 & brontë   \\\\\n\t 768 & 8 & 1 & chapter  \\\\\n\\end{tabular}\n",
            "text/plain": [
              "  gutenberg_id linenumber chapter word     \n",
              "1 768          1          0       wuthering\n",
              "2 768          1          0       heights  \n",
              "3 768          3          0       by       \n",
              "4 768          3          0       emily    \n",
              "5 768          3          0       brontë   \n",
              "6 768          8          1       chapter  "
            ]
          },
          "metadata": {}
        },
        {
          "output_type": "display_data",
          "data": {
            "text/html": [
              "<table class=\"dataframe\">\n",
              "<caption>A tibble: 6 × 4</caption>\n",
              "<thead>\n",
              "\t<tr><th scope=col>gutenberg_id</th><th scope=col>linenumber</th><th scope=col>chapter</th><th scope=col>word</th></tr>\n",
              "\t<tr><th scope=col>&lt;int&gt;</th><th scope=col>&lt;int&gt;</th><th scope=col>&lt;int&gt;</th><th scope=col>&lt;chr&gt;</th></tr>\n",
              "</thead>\n",
              "<tbody>\n",
              "\t<tr><td>768</td><td>12342</td><td>34</td><td>the     </td></tr>\n",
              "\t<tr><td>768</td><td>12342</td><td>34</td><td>sleepers</td></tr>\n",
              "\t<tr><td>768</td><td>12342</td><td>34</td><td>in      </td></tr>\n",
              "\t<tr><td>768</td><td>12342</td><td>34</td><td>that    </td></tr>\n",
              "\t<tr><td>768</td><td>12342</td><td>34</td><td>quiet   </td></tr>\n",
              "\t<tr><td>768</td><td>12342</td><td>34</td><td>earth   </td></tr>\n",
              "</tbody>\n",
              "</table>\n"
            ],
            "text/markdown": "\nA tibble: 6 × 4\n\n| gutenberg_id &lt;int&gt; | linenumber &lt;int&gt; | chapter &lt;int&gt; | word &lt;chr&gt; |\n|---|---|---|---|\n| 768 | 12342 | 34 | the      |\n| 768 | 12342 | 34 | sleepers |\n| 768 | 12342 | 34 | in       |\n| 768 | 12342 | 34 | that     |\n| 768 | 12342 | 34 | quiet    |\n| 768 | 12342 | 34 | earth    |\n\n",
            "text/latex": "A tibble: 6 × 4\n\\begin{tabular}{llll}\n gutenberg\\_id & linenumber & chapter & word\\\\\n <int> & <int> & <int> & <chr>\\\\\n\\hline\n\t 768 & 12342 & 34 & the     \\\\\n\t 768 & 12342 & 34 & sleepers\\\\\n\t 768 & 12342 & 34 & in      \\\\\n\t 768 & 12342 & 34 & that    \\\\\n\t 768 & 12342 & 34 & quiet   \\\\\n\t 768 & 12342 & 34 & earth   \\\\\n\\end{tabular}\n",
            "text/plain": [
              "  gutenberg_id linenumber chapter word    \n",
              "1 768          12342      34      the     \n",
              "2 768          12342      34      sleepers\n",
              "3 768          12342      34      in      \n",
              "4 768          12342      34      that    \n",
              "5 768          12342      34      quiet   \n",
              "6 768          12342      34      earth   "
            ]
          },
          "metadata": {}
        }
      ]
    },
    {
      "cell_type": "markdown",
      "source": [
        "Now we can eliminate stop words like we did in Python using NLTK."
      ],
      "metadata": {
        "id": "hk6kkUJjnv_c"
      }
    },
    {
      "cell_type": "code",
      "source": [
        "data(stop_words)\n",
        "relevant <- tidy %>% anti_join(stop_words)\n",
        "head(relevant)\n",
        "tail(relevant)"
      ],
      "metadata": {
        "colab": {
          "base_uri": "https://localhost:8080/",
          "height": 573
        },
        "id": "Vz7v-kpqn0UG",
        "outputId": "1a6747eb-636f-4ff9-db6b-ed93ab6e8b99"
      },
      "execution_count": 19,
      "outputs": [
        {
          "output_type": "stream",
          "name": "stderr",
          "text": [
            "\u001b[1m\u001b[22mJoining, by = \"word\"\n"
          ]
        },
        {
          "output_type": "display_data",
          "data": {
            "text/html": [
              "<table class=\"dataframe\">\n",
              "<caption>A tibble: 6 × 4</caption>\n",
              "<thead>\n",
              "\t<tr><th scope=col>gutenberg_id</th><th scope=col>linenumber</th><th scope=col>chapter</th><th scope=col>word</th></tr>\n",
              "\t<tr><th scope=col>&lt;int&gt;</th><th scope=col>&lt;int&gt;</th><th scope=col>&lt;int&gt;</th><th scope=col>&lt;chr&gt;</th></tr>\n",
              "</thead>\n",
              "<tbody>\n",
              "\t<tr><td>768</td><td> 1</td><td>0</td><td>wuthering</td></tr>\n",
              "\t<tr><td>768</td><td> 1</td><td>0</td><td>heights  </td></tr>\n",
              "\t<tr><td>768</td><td> 3</td><td>0</td><td>emily    </td></tr>\n",
              "\t<tr><td>768</td><td> 3</td><td>0</td><td>brontë   </td></tr>\n",
              "\t<tr><td>768</td><td> 8</td><td>1</td><td>chapter  </td></tr>\n",
              "\t<tr><td>768</td><td>11</td><td>1</td><td>1801     </td></tr>\n",
              "</tbody>\n",
              "</table>\n"
            ],
            "text/markdown": "\nA tibble: 6 × 4\n\n| gutenberg_id &lt;int&gt; | linenumber &lt;int&gt; | chapter &lt;int&gt; | word &lt;chr&gt; |\n|---|---|---|---|\n| 768 |  1 | 0 | wuthering |\n| 768 |  1 | 0 | heights   |\n| 768 |  3 | 0 | emily     |\n| 768 |  3 | 0 | brontë    |\n| 768 |  8 | 1 | chapter   |\n| 768 | 11 | 1 | 1801      |\n\n",
            "text/latex": "A tibble: 6 × 4\n\\begin{tabular}{llll}\n gutenberg\\_id & linenumber & chapter & word\\\\\n <int> & <int> & <int> & <chr>\\\\\n\\hline\n\t 768 &  1 & 0 & wuthering\\\\\n\t 768 &  1 & 0 & heights  \\\\\n\t 768 &  3 & 0 & emily    \\\\\n\t 768 &  3 & 0 & brontë   \\\\\n\t 768 &  8 & 1 & chapter  \\\\\n\t 768 & 11 & 1 & 1801     \\\\\n\\end{tabular}\n",
            "text/plain": [
              "  gutenberg_id linenumber chapter word     \n",
              "1 768           1         0       wuthering\n",
              "2 768           1         0       heights  \n",
              "3 768           3         0       emily    \n",
              "4 768           3         0       brontë   \n",
              "5 768           8         1       chapter  \n",
              "6 768          11         1       1801     "
            ]
          },
          "metadata": {}
        },
        {
          "output_type": "display_data",
          "data": {
            "text/html": [
              "<table class=\"dataframe\">\n",
              "<caption>A tibble: 6 × 4</caption>\n",
              "<thead>\n",
              "\t<tr><th scope=col>gutenberg_id</th><th scope=col>linenumber</th><th scope=col>chapter</th><th scope=col>word</th></tr>\n",
              "\t<tr><th scope=col>&lt;int&gt;</th><th scope=col>&lt;int&gt;</th><th scope=col>&lt;int&gt;</th><th scope=col>&lt;chr&gt;</th></tr>\n",
              "</thead>\n",
              "<tbody>\n",
              "\t<tr><td>768</td><td>12342</td><td>34</td><td>imagine </td></tr>\n",
              "\t<tr><td>768</td><td>12342</td><td>34</td><td>unquiet </td></tr>\n",
              "\t<tr><td>768</td><td>12342</td><td>34</td><td>slumbers</td></tr>\n",
              "\t<tr><td>768</td><td>12342</td><td>34</td><td>sleepers</td></tr>\n",
              "\t<tr><td>768</td><td>12342</td><td>34</td><td>quiet   </td></tr>\n",
              "\t<tr><td>768</td><td>12342</td><td>34</td><td>earth   </td></tr>\n",
              "</tbody>\n",
              "</table>\n"
            ],
            "text/markdown": "\nA tibble: 6 × 4\n\n| gutenberg_id &lt;int&gt; | linenumber &lt;int&gt; | chapter &lt;int&gt; | word &lt;chr&gt; |\n|---|---|---|---|\n| 768 | 12342 | 34 | imagine  |\n| 768 | 12342 | 34 | unquiet  |\n| 768 | 12342 | 34 | slumbers |\n| 768 | 12342 | 34 | sleepers |\n| 768 | 12342 | 34 | quiet    |\n| 768 | 12342 | 34 | earth    |\n\n",
            "text/latex": "A tibble: 6 × 4\n\\begin{tabular}{llll}\n gutenberg\\_id & linenumber & chapter & word\\\\\n <int> & <int> & <int> & <chr>\\\\\n\\hline\n\t 768 & 12342 & 34 & imagine \\\\\n\t 768 & 12342 & 34 & unquiet \\\\\n\t 768 & 12342 & 34 & slumbers\\\\\n\t 768 & 12342 & 34 & sleepers\\\\\n\t 768 & 12342 & 34 & quiet   \\\\\n\t 768 & 12342 & 34 & earth   \\\\\n\\end{tabular}\n",
            "text/plain": [
              "  gutenberg_id linenumber chapter word    \n",
              "1 768          12342      34      imagine \n",
              "2 768          12342      34      unquiet \n",
              "3 768          12342      34      slumbers\n",
              "4 768          12342      34      sleepers\n",
              "5 768          12342      34      quiet   \n",
              "6 768          12342      34      earth   "
            ]
          },
          "metadata": {}
        }
      ]
    },
    {
      "cell_type": "markdown",
      "source": [
        "We can access the word frequencies with ease."
      ],
      "metadata": {
        "id": "e78vf2ZnoDX-"
      }
    },
    {
      "cell_type": "code",
      "source": [
        "library(ggplot2)\n",
        "threshold <- 150\n",
        "freq <- relevant %>% count(word, sort = TRUE) \n",
        "head(freq)\n",
        "top <- freq %>% filter (n > threshold) %>% mutate(word = reorder(word, n))\n",
        "ggplot(data = top, aes(word, n)) + geom_col() + coord_flip() # horizontal bar chart"
      ],
      "metadata": {
        "colab": {
          "base_uri": "https://localhost:8080/",
          "height": 706
        },
        "id": "YNvSOL0ZoGK9",
        "outputId": "61a80d59-7596-4835-d547-6c9f1676fdd8"
      },
      "execution_count": 38,
      "outputs": [
        {
          "output_type": "display_data",
          "data": {
            "text/html": [
              "<table class=\"dataframe\">\n",
              "<caption>A tibble: 6 × 2</caption>\n",
              "<thead>\n",
              "\t<tr><th scope=col>word</th><th scope=col>n</th></tr>\n",
              "\t<tr><th scope=col>&lt;chr&gt;</th><th scope=col>&lt;int&gt;</th></tr>\n",
              "</thead>\n",
              "<tbody>\n",
              "\t<tr><td>heathcliff</td><td>421</td></tr>\n",
              "\t<tr><td>linton    </td><td>346</td></tr>\n",
              "\t<tr><td>catherine </td><td>336</td></tr>\n",
              "\t<tr><td>i’m       </td><td>192</td></tr>\n",
              "\t<tr><td>i’ll      </td><td>189</td></tr>\n",
              "\t<tr><td>master    </td><td>185</td></tr>\n",
              "</tbody>\n",
              "</table>\n"
            ],
            "text/markdown": "\nA tibble: 6 × 2\n\n| word &lt;chr&gt; | n &lt;int&gt; |\n|---|---|\n| heathcliff | 421 |\n| linton     | 346 |\n| catherine  | 336 |\n| i’m        | 192 |\n| i’ll       | 189 |\n| master     | 185 |\n\n",
            "text/latex": "A tibble: 6 × 2\n\\begin{tabular}{ll}\n word & n\\\\\n <chr> & <int>\\\\\n\\hline\n\t heathcliff & 421\\\\\n\t linton     & 346\\\\\n\t catherine  & 336\\\\\n\t i’m        & 192\\\\\n\t i’ll       & 189\\\\\n\t master     & 185\\\\\n\\end{tabular}\n",
            "text/plain": [
              "  word       n  \n",
              "1 heathcliff 421\n",
              "2 linton     346\n",
              "3 catherine  336\n",
              "4 i’m        192\n",
              "5 i’ll       189\n",
              "6 master     185"
            ]
          },
          "metadata": {}
        },
        {
          "output_type": "display_data",
          "data": {
            "text/plain": [
              "plot without title"
            ],
            "image/png": "[encoded data removed]"
          },
          "metadata": {
            "image/png": {
              "width": 420,
              "height": 420
            }
          }
        }
      ]
    },
    {
      "cell_type": "markdown",
      "source": [
        "How about the document-term frequencies?"
      ],
      "metadata": {
        "id": "_EZIgYTGplIL"
      }
    },
    {
      "cell_type": "code",
      "source": [
        "cf <- relevant %>% count(word, chapter) # frequencies of words per chapter\n",
        "head(cf)\n",
        "threshold <- 5 # now, mind you, this is a chapter-level threshold, whereas in Python we used a book-level one\n",
        "fcf <- cf %>% filter(n > threshold) # a filtered version to keep the matrix small so we can browse it easily\n",
        "head(fcf)"
      ],
      "metadata": {
        "colab": {
          "base_uri": "https://localhost:8080/",
          "height": 556
        },
        "id": "_H0fGYrWpn4m",
        "outputId": "8e7f1e06-c4a1-49a5-f5b5-23d52ee54fce"
      },
      "execution_count": 62,
      "outputs": [
        {
          "output_type": "display_data",
          "data": {
            "text/html": [
              "<table class=\"dataframe\">\n",
              "<caption>A tibble: 6 × 3</caption>\n",
              "<thead>\n",
              "\t<tr><th scope=col>word</th><th scope=col>chapter</th><th scope=col>n</th></tr>\n",
              "\t<tr><th scope=col>&lt;chr&gt;</th><th scope=col>&lt;int&gt;</th><th scope=col>&lt;int&gt;</th></tr>\n",
              "</thead>\n",
              "<tbody>\n",
              "\t<tr><td>_all_   </td><td>13</td><td>1</td></tr>\n",
              "\t<tr><td>_almost_</td><td>29</td><td>1</td></tr>\n",
              "\t<tr><td>_almost_</td><td>34</td><td>1</td></tr>\n",
              "\t<tr><td>_am_    </td><td> 9</td><td>1</td></tr>\n",
              "\t<tr><td>_am_    </td><td>24</td><td>1</td></tr>\n",
              "\t<tr><td>_am_    </td><td>27</td><td>1</td></tr>\n",
              "</tbody>\n",
              "</table>\n"
            ],
            "text/markdown": "\nA tibble: 6 × 3\n\n| word &lt;chr&gt; | chapter &lt;int&gt; | n &lt;int&gt; |\n|---|---|---|\n| _all_    | 13 | 1 |\n| _almost_ | 29 | 1 |\n| _almost_ | 34 | 1 |\n| _am_     |  9 | 1 |\n| _am_     | 24 | 1 |\n| _am_     | 27 | 1 |\n\n",
            "text/latex": "A tibble: 6 × 3\n\\begin{tabular}{lll}\n word & chapter & n\\\\\n <chr> & <int> & <int>\\\\\n\\hline\n\t \\_all\\_    & 13 & 1\\\\\n\t \\_almost\\_ & 29 & 1\\\\\n\t \\_almost\\_ & 34 & 1\\\\\n\t \\_am\\_     &  9 & 1\\\\\n\t \\_am\\_     & 24 & 1\\\\\n\t \\_am\\_     & 27 & 1\\\\\n\\end{tabular}\n",
            "text/plain": [
              "  word     chapter n\n",
              "1 _all_    13      1\n",
              "2 _almost_ 29      1\n",
              "3 _almost_ 34      1\n",
              "4 _am_      9      1\n",
              "5 _am_     24      1\n",
              "6 _am_     27      1"
            ]
          },
          "metadata": {}
        },
        {
          "output_type": "display_data",
          "data": {
            "text/html": [
              "<table class=\"dataframe\">\n",
              "<caption>A tibble: 6 × 3</caption>\n",
              "<thead>\n",
              "\t<tr><th scope=col>word</th><th scope=col>chapter</th><th scope=col>n</th></tr>\n",
              "\t<tr><th scope=col>&lt;chr&gt;</th><th scope=col>&lt;int&gt;</th><th scope=col>&lt;int&gt;</th></tr>\n",
              "</thead>\n",
              "<tbody>\n",
              "\t<tr><td>afraid  </td><td>27</td><td> 8</td></tr>\n",
              "\t<tr><td>answer  </td><td>11</td><td> 7</td></tr>\n",
              "\t<tr><td>answered</td><td> 9</td><td>10</td></tr>\n",
              "\t<tr><td>answered</td><td>10</td><td> 9</td></tr>\n",
              "\t<tr><td>answered</td><td>12</td><td> 8</td></tr>\n",
              "\t<tr><td>answered</td><td>17</td><td> 7</td></tr>\n",
              "</tbody>\n",
              "</table>\n"
            ],
            "text/markdown": "\nA tibble: 6 × 3\n\n| word &lt;chr&gt; | chapter &lt;int&gt; | n &lt;int&gt; |\n|---|---|---|\n| afraid   | 27 |  8 |\n| answer   | 11 |  7 |\n| answered |  9 | 10 |\n| answered | 10 |  9 |\n| answered | 12 |  8 |\n| answered | 17 |  7 |\n\n",
            "text/latex": "A tibble: 6 × 3\n\\begin{tabular}{lll}\n word & chapter & n\\\\\n <chr> & <int> & <int>\\\\\n\\hline\n\t afraid   & 27 &  8\\\\\n\t answer   & 11 &  7\\\\\n\t answered &  9 & 10\\\\\n\t answered & 10 &  9\\\\\n\t answered & 12 &  8\\\\\n\t answered & 17 &  7\\\\\n\\end{tabular}\n",
            "text/plain": [
              "  word     chapter n \n",
              "1 afraid   27       8\n",
              "2 answer   11       7\n",
              "3 answered  9      10\n",
              "4 answered 10       9\n",
              "5 answered 12       8\n",
              "6 answered 17       7"
            ]
          },
          "metadata": {}
        }
      ]
    },
    {
      "cell_type": "code",
      "source": [
        "install.packages(\"quanteda\") # need another library for this\n",
        "library(quanteda)"
      ],
      "metadata": {
        "colab": {
          "base_uri": "https://localhost:8080/"
        },
        "id": "hNnCbuItrOS4",
        "outputId": "64abc3d0-c849-48c7-cba5-68bd2b474199"
      },
      "execution_count": 44,
      "outputs": [
        {
          "output_type": "stream",
          "name": "stderr",
          "text": [
            "Installing package into ‘/usr/local/lib/R/site-library’\n",
            "(as ‘lib’ is unspecified)\n",
            "\n",
            "also installing the dependencies ‘ISOcodes’, ‘fastmatch’, ‘RcppParallel’, ‘stopwords’, ‘RcppArmadillo’\n",
            "\n",
            "\n",
            "Package version: 3.2.1\n",
            "Unicode version: 10.0\n",
            "ICU version: 60.2\n",
            "\n",
            "Parallel computing: 2 of 2 threads used.\n",
            "\n",
            "See https://quanteda.io for tutorials and examples.\n",
            "\n"
          ]
        }
      ]
    },
    {
      "cell_type": "code",
      "source": [
        "tdm <- fcf %>% cast_dfm(chapter, word, n)\n",
        "tdm"
      ],
      "metadata": {
        "colab": {
          "base_uri": "https://localhost:8080/",
          "height": 191
        },
        "id": "5LCLS7L7rjBa",
        "outputId": "2f7bded3-9d38-4098-a8e8-1bff23ff1aec"
      },
      "execution_count": 63,
      "outputs": [
        {
          "output_type": "display_data",
          "data": {
            "text/plain": [
              "Document-feature matrix of: 33 documents, 107 features (87.65% sparse) and 0 docvars.\n",
              "    features\n",
              "docs afraid answer answered bed bid book branderham called candle catherine\n",
              "  27      8      0        7   0   0    0          0      0      0        33\n",
              "  11      0      7        0   0   0    0          0      0      0        10\n",
              "  9       0      0       10   0   0    0          0      0      0        19\n",
              "  10      0      0        9   0   0    0          0      6      0        19\n",
              "  12      0      0        8   8   0    0          0      0      0        11\n",
              "  17      0      0        7   0   0    0          0      0      0        13\n",
              "[ reached max_ndoc ... 27 more documents, reached max_nfeat ... 97 more features ]"
            ]
          },
          "metadata": {}
        }
      ]
    },
    {
      "cell_type": "markdown",
      "source": [
        "And word clouds in R?"
      ],
      "metadata": {
        "id": "XpuUtRgRt2Wo"
      }
    },
    {
      "cell_type": "code",
      "source": [
        "install.packages(\"quanteda.textplots\") # yes, another library\n",
        "library(quanteda.textplots) # check https://quanteda.io/articles/pkgdown/examples/plotting.html for more ideas"
      ],
      "metadata": {
        "colab": {
          "base_uri": "https://localhost:8080/"
        },
        "id": "p9aWdEp9t3za",
        "outputId": "21f1d26a-9aa2-49e5-f46d-544599576906"
      },
      "execution_count": 65,
      "outputs": [
        {
          "output_type": "stream",
          "name": "stderr",
          "text": [
            "Installing package into ‘/usr/local/lib/R/site-library’\n",
            "(as ‘lib’ is unspecified)\n",
            "\n",
            "also installing the dependencies ‘coda’, ‘extrafontdb’, ‘Rttf2pt1’, ‘statnet.common’, ‘extrafont’, ‘ggrepel’, ‘sna’, ‘igraph’, ‘network’\n",
            "\n",
            "\n"
          ]
        }
      ]
    },
    {
      "cell_type": "code",
      "source": [
        "textplot_wordcloud(tdm)"
      ],
      "metadata": {
        "colab": {
          "base_uri": "https://localhost:8080/",
          "height": 437
        },
        "id": "NRBa9ukauGtI",
        "outputId": "d68c6254-b2bf-4af0-b50c-43ab3079a601"
      },
      "execution_count": 66,
      "outputs": [
        {
          "output_type": "display_data",
          "data": {
            "text/plain": [
              "plot without title"
            ],
            "image/png": "[encoded data removed]"
          },
          "metadata": {
            "image/png": {
              "width": 420,
              "height": 420
            }
          }
        }
      ]
    }
  ]
}