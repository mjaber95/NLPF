{
  "nbformat": 4,
  "nbformat_minor": 0,
  "metadata": {
    "colab": {
      "name": "NLPF_09_P",
      "provenance": [],
      "authorship_tag": "ABX9TyMLbbETMGd3mTXGYONb5ldp",
      "include_colab_link": true
    },
    "kernelspec": {
      "name": "python3",
      "display_name": "Python 3"
    },
    "language_info": {
      "name": "python"
    }
  },
  "cells": [
    {
      "cell_type": "markdown",
      "metadata": {
        "id": "view-in-github",
        "colab_type": "text"
      },
      "source": [
        "<a href=\"https://colab.research.google.com/github/satuelisa/NLPF/blob/main/NLPF_09_P.ipynb\" target=\"_parent\"><img src=\"https://colab.research.google.com/assets/colab-badge.svg\" alt=\"Open In Colab\"/></a>"
      ]
    },
    {
      "cell_type": "code",
      "execution_count": 1,
      "metadata": {
        "id": "pvKkCt-n-5sS"
      },
      "outputs": [],
      "source": [
        "import nltk\n",
        "from nltk.chat.util import Chat, reflections"
      ]
    },
    {
      "cell_type": "markdown",
      "source": [
        "What are *reflections*?"
      ],
      "metadata": {
        "id": "ffkBhYjc_FBo"
      }
    },
    {
      "cell_type": "code",
      "source": [
        "print(reflections)"
      ],
      "metadata": {
        "colab": {
          "base_uri": "https://localhost:8080/"
        },
        "id": "AYYAG-bw_HbP",
        "outputId": "f4937f08-fee9-453a-a094-f775c06af383"
      },
      "execution_count": 2,
      "outputs": [
        {
          "output_type": "stream",
          "name": "stdout",
          "text": [
            "{'i am': 'you are', 'i was': 'you were', 'i': 'you', \"i'm\": 'you are', \"i'd\": 'you would', \"i've\": 'you have', \"i'll\": 'you will', 'my': 'your', 'you are': 'I am', 'you were': 'I was', \"you've\": 'I have', \"you'll\": 'I will', 'your': 'my', 'yours': 'mine', 'you': 'me', 'me': 'you'}\n"
          ]
        }
      ]
    },
    {
      "cell_type": "markdown",
      "source": [
        "We need to structure what will the bot respond to diverse prompts."
      ],
      "metadata": {
        "id": "BECzaKhu_RwI"
      }
    },
    {
      "cell_type": "code",
      "source": [
        "intro = ['Pleased to meet you, %1.', \"Hello, %1, how's it going?\"]\n",
        "smalltalk = [ 'I am well, thanks', 'Okay']\n",
        "identify = ['I am a bot']\n",
        "positive = [ 'Nice', 'Excellent', 'Way to go', 'Good for you']\n",
        "negative = [ 'That sucks', 'Sorry to hear that', ':(']\n",
        "default = [ 'Wow', 'I hear you']\n",
        "questionResponse = [\n",
        "    [ r'my name is|I am (.*)', intro],\n",
        "    [ r'this is (.*)', intro],\n",
        "    [ r'who am I talking to|who is this', identify],\n",
        "    [ r'how are you|how about you', smalltalk],\n",
        "    [ r'(.*) fine|well (.*)', positive],\n",
        "    [ r'(.*) bad|sucks (.*)', negative],\n",
        "    [ r'bonjour|hello|hi|whazzup (.*)', ['ohai', 'Bonjour, ça va?',]], \n",
        "    [ r'sorry (.*)', ['no biggie',]],\n",
        "    [ r'close|bye (.*)', ['It was a pleasure', 'See you later',]],\n",
        "    [ r'(.*)', default ]\n",
        "]"
      ],
      "metadata": {
        "id": "pLzKT1X7_ZQu"
      },
      "execution_count": 21,
      "outputs": []
    },
    {
      "cell_type": "markdown",
      "source": [
        "Let's start a chat :)"
      ],
      "metadata": {
        "id": "TXfxN42NA9df"
      }
    },
    {
      "cell_type": "code",
      "source": [
        "print('At your service, mate.')\n",
        "chat = Chat(questionResponse, reflections)\n",
        "chat.converse(quit = 'close') # typing close will make it stop expecting more messages"
      ],
      "metadata": {
        "colab": {
          "base_uri": "https://localhost:8080/"
        },
        "id": "veM3oTz4A_Bt",
        "outputId": "728eb7e0-ab45-48af-f269-37ab092a2c38"
      },
      "execution_count": 22,
      "outputs": [
        {
          "output_type": "stream",
          "name": "stdout",
          "text": [
            "At your service, mate.\n",
            ">what a fine day\n",
            "Excellent\n",
            ">who is this?\n",
            "I am a bot\n",
            ">I am Elisa\n",
            "Hello, elisa, how's it going?\n",
            ">it is going well\n",
            "I hear you\n",
            ">i have to go, sorry\n",
            "Wow\n",
            ">bye\n",
            "I hear you\n",
            ">close\n",
            "See you later\n"
          ]
        }
      ]
    },
    {
      "cell_type": "markdown",
      "source": [
        "To be continued..."
      ],
      "metadata": {
        "id": "-dkWRT6LEpp1"
      }
    }
  ]
}