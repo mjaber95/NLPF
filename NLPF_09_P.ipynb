{
  "nbformat": 4,
  "nbformat_minor": 0,
  "metadata": {
    "colab": {
      "name": "NLPF_09_P",
      "provenance": [],
      "authorship_tag": "ABX9TyOrLbgj//t0bok8v9FGKBrA",
      "include_colab_link": true
    },
    "kernelspec": {
      "name": "python3",
      "display_name": "Python 3"
    },
    "language_info": {
      "name": "python"
    }
  },
  "cells": [
    {
      "cell_type": "markdown",
      "metadata": {
        "id": "view-in-github",
        "colab_type": "text"
      },
      "source": [
        "<a href=\"https://colab.research.google.com/github/satuelisa/NLPF/blob/main/NLPF_09_P.ipynb\" target=\"_parent\"><img src=\"https://colab.research.google.com/assets/colab-badge.svg\" alt=\"Open In Colab\"/></a>"
      ]
    },
    {
      "cell_type": "code",
      "execution_count": 66,
      "metadata": {
        "id": "pvKkCt-n-5sS"
      },
      "outputs": [],
      "source": [
        "import nltk\n",
        "from nltk.chat.util import Chat, reflections"
      ]
    },
    {
      "cell_type": "markdown",
      "source": [
        "What are *reflections*?"
      ],
      "metadata": {
        "id": "ffkBhYjc_FBo"
      }
    },
    {
      "cell_type": "code",
      "source": [
        "print(reflections)"
      ],
      "metadata": {
        "colab": {
          "base_uri": "https://localhost:8080/"
        },
        "id": "AYYAG-bw_HbP",
        "outputId": "ee44cf17-5770-412f-e1e6-34695cd3a2c4"
      },
      "execution_count": 65,
      "outputs": [
        {
          "output_type": "stream",
          "name": "stdout",
          "text": [
            "{'i am': 'you are', 'i was': 'you were', 'i': 'you', \"i'm\": 'you are', \"i'd\": 'you would', \"i've\": 'you have', \"i'll\": 'you will', 'my': 'your', 'you are': 'I am', 'you were': 'I was', \"you've\": 'I have', \"you'll\": 'I will', 'your': 'my', 'yours': 'mine', 'you': 'me', 'me': 'you', 'hello': 'hi', 'bye': 'see you', 'o/': '\\\\o', '>': '<'}\n"
          ]
        }
      ]
    },
    {
      "cell_type": "markdown",
      "source": [
        "We can add stuff."
      ],
      "metadata": {
        "id": "w5ytPUAXKZHp"
      }
    },
    {
      "cell_type": "code",
      "source": [
        "reflections['myself'] = 'yourself'"
      ],
      "metadata": {
        "id": "OaXs1nmvKaEz"
      },
      "execution_count": 69,
      "outputs": []
    },
    {
      "cell_type": "markdown",
      "source": [
        "We need to structure what will the bot respond to diverse prompts."
      ],
      "metadata": {
        "id": "BECzaKhu_RwI"
      }
    },
    {
      "cell_type": "code",
      "source": [
        "intro = ['Pleased to meet you, %1.', \"Hello, %1, how's it going?\",]\n",
        "smalltalk = [ 'I am well, thanks', 'Okay',]\n",
        "identify = ['I am a bot',]\n",
        "positive = [ 'Nice', 'Excellent', 'Way to go', 'Good for you',]\n",
        "negative = [ 'That sucks', 'Sorry to hear that', ':(',]\n",
        "default = [ 'Wow', 'I hear you',]\n",
        "questionResponse = [ # will be matched in this order\n",
        "    [ r'my name is (.*)', intro ],\n",
        "    [ r'I am (.*)', intro ],\n",
        "    [ r'this is (.*)', intro ],\n",
        "    [ r'who am I talking to|who is this', identify ],\n",
        "    [ r\"how are you|how about you|what's up\", smalltalk ],\n",
        "    [ r'not too bad|fine|well|great', positive ],\n",
        "    [ r'bad|sucks', negative ],\n",
        "    [ r'bonjour|hi|whazzup (.*)', ['ohai', 'Bonjour, ça va?',] ], \n",
        "    [ r'sorry (.*)', ['no biggie',] ],\n",
        "    [ r'close|farewell (.*)', ['It was a pleasure', 'See you later',] ],\n",
        "    [ r'(.*)\\!', ['%1, for sure'] ],\n",
        "    [ r'(.*)\\?', ['whoah, %1!',] ],\n",
        "    [ r'(.*)', default ]\n",
        "]"
      ],
      "metadata": {
        "id": "pLzKT1X7_ZQu"
      },
      "execution_count": 74,
      "outputs": []
    },
    {
      "cell_type": "markdown",
      "source": [
        "Let's start a chat :)"
      ],
      "metadata": {
        "id": "TXfxN42NA9df"
      }
    },
    {
      "cell_type": "code",
      "source": [
        "print('At your service, mate.')\n",
        "chat = Chat(questionResponse, reflections)\n",
        "chat.converse(quit = 'close') # typing close will make it stop expecting more messages"
      ],
      "metadata": {
        "colab": {
          "base_uri": "https://localhost:8080/"
        },
        "id": "veM3oTz4A_Bt",
        "outputId": "646c5d47-5bdf-47ac-fbd5-ae3f7094dc8c"
      },
      "execution_count": 75,
      "outputs": [
        {
          "output_type": "stream",
          "name": "stdout",
          "text": [
            "At your service, mate.\n",
            ">the weather sucks today\n",
            "Wow\n",
            ">who is this?\n",
            "I am a bot\n",
            ">I am elisa\n",
            "Hello, elisa, how's it going?\n",
            ">well, thanks\n",
            "Way to go\n",
            ">nice to meet you\n",
            "I hear you\n",
            ">my cat climbed on my table\n",
            "Wow\n",
            ">do you have a cat?\n",
            "whoah, do me have a cat!\n",
            ">close\n",
            "It was a pleasure\n"
          ]
        }
      ]
    },
    {
      "cell_type": "markdown",
      "source": [
        "To be continued..."
      ],
      "metadata": {
        "id": "-dkWRT6LEpp1"
      }
    }
  ]
}