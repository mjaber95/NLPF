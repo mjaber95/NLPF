{
  "nbformat": 4,
  "nbformat_minor": 0,
  "metadata": {
    "colab": {
      "name": "NLPF_09_P",
      "provenance": [],
      "authorship_tag": "ABX9TyNw2/g8zSZkE9YN7qa80KCR",
      "include_colab_link": true
    },
    "kernelspec": {
      "name": "python3",
      "display_name": "Python 3"
    },
    "language_info": {
      "name": "python"
    }
  },
  "cells": [
    {
      "cell_type": "markdown",
      "metadata": {
        "id": "view-in-github",
        "colab_type": "text"
      },
      "source": [
        "<a href=\"https://colab.research.google.com/github/satuelisa/NLPF/blob/main/NLPF_09_P.ipynb\" target=\"_parent\"><img src=\"https://colab.research.google.com/assets/colab-badge.svg\" alt=\"Open In Colab\"/></a>"
      ]
    },
    {
      "cell_type": "code",
      "execution_count": null,
      "metadata": {
        "id": "pvKkCt-n-5sS"
      },
      "outputs": [],
      "source": [
        "import nltk\n",
        "from nltk.chat.util import Chat, reflections"
      ]
    },
    {
      "cell_type": "markdown",
      "source": [
        "What are *reflections*?"
      ],
      "metadata": {
        "id": "ffkBhYjc_FBo"
      }
    },
    {
      "cell_type": "code",
      "source": [
        "print(reflections)"
      ],
      "metadata": {
        "colab": {
          "base_uri": "https://localhost:8080/"
        },
        "id": "AYYAG-bw_HbP",
        "outputId": "ee44cf17-5770-412f-e1e6-34695cd3a2c4"
      },
      "execution_count": null,
      "outputs": [
        {
          "output_type": "stream",
          "name": "stdout",
          "text": [
            "{'i am': 'you are', 'i was': 'you were', 'i': 'you', \"i'm\": 'you are', \"i'd\": 'you would', \"i've\": 'you have', \"i'll\": 'you will', 'my': 'your', 'you are': 'I am', 'you were': 'I was', \"you've\": 'I have', \"you'll\": 'I will', 'your': 'my', 'yours': 'mine', 'you': 'me', 'me': 'you', 'hello': 'hi', 'bye': 'see you', 'o/': '\\\\o', '>': '<'}\n"
          ]
        }
      ]
    },
    {
      "cell_type": "markdown",
      "source": [
        "We can add stuff."
      ],
      "metadata": {
        "id": "w5ytPUAXKZHp"
      }
    },
    {
      "cell_type": "code",
      "source": [
        "reflections['myself'] = 'yourself'"
      ],
      "metadata": {
        "id": "OaXs1nmvKaEz"
      },
      "execution_count": null,
      "outputs": []
    },
    {
      "cell_type": "markdown",
      "source": [
        "We need to structure what will the bot respond to diverse prompts."
      ],
      "metadata": {
        "id": "BECzaKhu_RwI"
      }
    },
    {
      "cell_type": "code",
      "source": [
        "intro = ['Pleased to meet you, %1.', \"Hello, %1, how's it going?\",]\n",
        "smalltalk = [ 'I am well, thanks', 'Okay',]\n",
        "identify = ['I am a bot',]\n",
        "positive = [ 'Nice', 'Excellent', 'Way to go', 'Good for you',]\n",
        "negative = [ 'That sucks', 'Sorry to hear that', ':(',]\n",
        "default = [ 'Wow', 'I hear you',]\n",
        "questionResponse = [ # will be matched in this order\n",
        "    [ r'my name is (.*)', intro ],\n",
        "    [ r'I am (.*)', intro ],\n",
        "    [ r'this is (.*)', intro ],\n",
        "    [ r'who am I talking to|who is this', identify ],\n",
        "    [ r\"how are you|how about you|what's up\", smalltalk ],\n",
        "    [ r'not too bad|fine|well|great', positive ],\n",
        "    [ r'bad|sucks', negative ],\n",
        "    [ r'bonjour|hi|whazzup (.*)', ['ohai', 'Bonjour, ça va?',] ], \n",
        "    [ r'sorry (.*)', ['no biggie',] ],\n",
        "    [ r'close|farewell (.*)', ['It was a pleasure', 'See you later',] ],\n",
        "    [ r'(.*)\\!', ['%1, for sure'] ],\n",
        "    [ r'(.*)\\?', ['whoah, %1!',] ],\n",
        "    [ r'(.*)', default ]\n",
        "]"
      ],
      "metadata": {
        "id": "pLzKT1X7_ZQu"
      },
      "execution_count": null,
      "outputs": []
    },
    {
      "cell_type": "markdown",
      "source": [
        "Let's start a chat :)"
      ],
      "metadata": {
        "id": "TXfxN42NA9df"
      }
    },
    {
      "cell_type": "code",
      "source": [
        "print('At your service, mate.')\n",
        "chat = Chat(questionResponse, reflections)\n",
        "chat.converse(quit = 'close') # typing close will make it stop expecting more messages"
      ],
      "metadata": {
        "colab": {
          "base_uri": "https://localhost:8080/"
        },
        "id": "veM3oTz4A_Bt",
        "outputId": "646c5d47-5bdf-47ac-fbd5-ae3f7094dc8c"
      },
      "execution_count": null,
      "outputs": [
        {
          "output_type": "stream",
          "name": "stdout",
          "text": [
            "At your service, mate.\n",
            ">the weather sucks today\n",
            "Wow\n",
            ">who is this?\n",
            "I am a bot\n",
            ">I am elisa\n",
            "Hello, elisa, how's it going?\n",
            ">well, thanks\n",
            "Way to go\n",
            ">nice to meet you\n",
            "I hear you\n",
            ">my cat climbed on my table\n",
            "Wow\n",
            ">do you have a cat?\n",
            "whoah, do me have a cat!\n",
            ">close\n",
            "It was a pleasure\n"
          ]
        }
      ]
    },
    {
      "cell_type": "markdown",
      "source": [
        "So that is a *rule-based* chat bot. Another approach is to use machine learning and figure out based on training data what are appropriate responses for the bot. We will now start working towards that latter direction, following an [online Pykit tutorial](https://pykit.org/chatbot-in-python-using-nlp/).  The training data is a [JSON file](https://github.com/vishal-verma27/Building-a-Simple-Chatbot-in-Python-using-NLTK/blob/611bc5c96f25aa0e5f8e71a97c421fab7781214e/Train_Bot.json) that is similar to the rules above in the sense that it associates *patterns* to *responses*."
      ],
      "metadata": {
        "id": "-dkWRT6LEpp1"
      }
    },
    {
      "cell_type": "code",
      "source": [
        "from urllib.request import urlopen\n",
        "import json\n",
        "url = 'https://raw.githubusercontent.com/vishal-verma27/Building-a-Simple-Chatbot-in-Python-using-NLTK/611bc5c96f25aa0e5f8e71a97c421fab7781214e/Train_Bot.json'\n",
        "data = urlopen(url) \n",
        "intents = json.loads(data.read())\n",
        "print(json.dumps(intents, indent = 2))"
      ],
      "metadata": {
        "colab": {
          "base_uri": "https://localhost:8080/"
        },
        "id": "oiHcvh9EcHtz",
        "outputId": "6b1e0d3f-a048-447f-c464-fa572ce7ea61"
      },
      "execution_count": 6,
      "outputs": [
        {
          "output_type": "stream",
          "name": "stdout",
          "text": [
            "{\n",
            "  \"intents\": [\n",
            "    {\n",
            "      \"tag\": \"Intro\",\n",
            "      \"patterns\": [\n",
            "        \"hi\",\n",
            "        \"how are you\",\n",
            "        \"is anyone there\",\n",
            "        \"hello\",\n",
            "        \"whats up\",\n",
            "        \"hey\",\n",
            "        \"yo\",\n",
            "        \"listen\",\n",
            "        \"please help me\",\n",
            "        \"i am learner from\",\n",
            "        \"i belong to\",\n",
            "        \"aiml batch\",\n",
            "        \"aifl batch\",\n",
            "        \"i am from\",\n",
            "        \"my pm is\",\n",
            "        \"blended\",\n",
            "        \"online\",\n",
            "        \"i am from\",\n",
            "        \"hey ya\",\n",
            "        \"talking to you for first time\"\n",
            "      ],\n",
            "      \"responses\": [\n",
            "        \"Hello! how can i help you ?\"\n",
            "      ],\n",
            "      \"context_set\": \"\"\n",
            "    },\n",
            "    {\n",
            "      \"tag\": \"Exit\",\n",
            "      \"patterns\": [\n",
            "        \"thank you\",\n",
            "        \"thanks\",\n",
            "        \"cya\",\n",
            "        \"see you\",\n",
            "        \"later\",\n",
            "        \"see you later\",\n",
            "        \"goodbye\",\n",
            "        \"i am leaving\",\n",
            "        \"have a Good day\",\n",
            "        \"you helped me\",\n",
            "        \"thanks a lot\",\n",
            "        \"thanks a ton\",\n",
            "        \"you are the best\",\n",
            "        \"great help\",\n",
            "        \"too good\",\n",
            "        \"you are a good learning buddy\"\n",
            "      ],\n",
            "      \"responses\": [\n",
            "        \"I hope I was able to assist you, Good Bye\"\n",
            "      ],\n",
            "      \"context_set\": \"\"\n",
            "    },\n",
            "    {\n",
            "      \"tag\": \"Olympus\",\n",
            "      \"patterns\": [\n",
            "        \"olympus\",\n",
            "        \"explain me how olympus works\",\n",
            "        \"I am not able to understand olympus\",\n",
            "        \"olympus window not working\",\n",
            "        \"no access to olympus\",\n",
            "        \"unable to see link in olympus\",\n",
            "        \"no link visible on olympus\",\n",
            "        \"whom to contact for olympus\",\n",
            "        \"lot of problem with olympus\",\n",
            "        \"olypus is not a good tool\",\n",
            "        \"lot of problems with olympus\",\n",
            "        \"how to use olympus\",\n",
            "        \"teach me olympus\"\n",
            "      ],\n",
            "      \"responses\": [\n",
            "        \"Link: Olympus wiki\"\n",
            "      ],\n",
            "      \"context_set\": \"\"\n",
            "    },\n",
            "    {\n",
            "      \"tag\": \"SL\",\n",
            "      \"patterns\": [\n",
            "        \"i am not able to understand svm\",\n",
            "        \"explain me how machine learning works\",\n",
            "        \"i am not able to understand naive bayes\",\n",
            "        \"i am not able to understand logistic regression\",\n",
            "        \"i am not able to understand ensemble techb=niques\",\n",
            "        \"i am not able to understand knn\",\n",
            "        \"i am not able to understand knn imputer\",\n",
            "        \"i am not able to understand cross validation\",\n",
            "        \"i am not able to understand boosting\",\n",
            "        \"i am not able to understand random forest\",\n",
            "        \"i am not able to understand ada boosting\",\n",
            "        \"i am not able to understand gradient boosting\",\n",
            "        \"machine learning\",\n",
            "        \"ML\",\n",
            "        \"SL\",\n",
            "        \"supervised learning\",\n",
            "        \"knn\",\n",
            "        \"logistic regression\",\n",
            "        \"regression\",\n",
            "        \"classification\",\n",
            "        \"naive bayes\",\n",
            "        \"nb\",\n",
            "        \"ensemble techniques\",\n",
            "        \"bagging\",\n",
            "        \"boosting\",\n",
            "        \"ada boosting\",\n",
            "        \"ada\",\n",
            "        \"gradient boosting\",\n",
            "        \"hyper parameters\"\n",
            "      ],\n",
            "      \"responses\": [\n",
            "        \"Link: Machine Learning wiki \"\n",
            "      ],\n",
            "      \"context_set\": \"\"\n",
            "    },\n",
            "    {\n",
            "      \"tag\": \"NN\",\n",
            "      \"patterns\": [\n",
            "        \"what is deep learning\",\n",
            "        \"unable to understand deep learning\",\n",
            "        \"explain me how deep learning works\",\n",
            "        \"i am not able to understand deep learning\",\n",
            "        \"not able to understand neural nets\",\n",
            "        \"very diffult to understand neural nets\",\n",
            "        \"unable to understand neural nets\",\n",
            "        \"ann\",\n",
            "        \"artificial intelligence\",\n",
            "        \"artificial neural networks\",\n",
            "        \"weights\",\n",
            "        \"activation function\",\n",
            "        \"hidden layers\",\n",
            "        \"softmax\",\n",
            "        \"sigmoid\",\n",
            "        \"relu\",\n",
            "        \"otimizer\",\n",
            "        \"forward propagation\",\n",
            "        \"backward propagation\",\n",
            "        \"epochs\",\n",
            "        \"epoch\",\n",
            "        \"what is an epoch\",\n",
            "        \"adam\",\n",
            "        \"sgd\"\n",
            "      ],\n",
            "      \"responses\": [\n",
            "        \"Link: Neural Nets wiki\"\n",
            "      ],\n",
            "      \"context_set\": \"\"\n",
            "    },\n",
            "    {\n",
            "      \"tag\": \"Bot\",\n",
            "      \"patterns\": [\n",
            "        \"what is your name\",\n",
            "        \"who are you\",\n",
            "        \"name please\",\n",
            "        \"when are your hours of opertions\",\n",
            "        \"what are your working hours\",\n",
            "        \"hours of operation\",\n",
            "        \"working hours\",\n",
            "        \"hours\"\n",
            "      ],\n",
            "      \"responses\": [\n",
            "        \"I am your virtual learning assistant\"\n",
            "      ],\n",
            "      \"context_set\": \"\"\n",
            "    },\n",
            "    {\n",
            "      \"tag\": \"Profane\",\n",
            "      \"patterns\": [\n",
            "        \"what the hell\",\n",
            "        \"bloody stupid bot\",\n",
            "        \"do you think you are very smart\",\n",
            "        \"screw you\",\n",
            "        \"i hate you\",\n",
            "        \"you are stupid\",\n",
            "        \"jerk\",\n",
            "        \"you are a joke\",\n",
            "        \"useless piece of shit\"\n",
            "      ],\n",
            "      \"responses\": [\n",
            "        \"Please use respectful words\"\n",
            "      ],\n",
            "      \"context_set\": \"\"\n",
            "    },\n",
            "    {\n",
            "      \"tag\": \"Ticket\",\n",
            "      \"patterns\": [\n",
            "        \"my problem is not solved\",\n",
            "        \"you did not help me\",\n",
            "        \"not a good solution\",\n",
            "        \"bad solution\",\n",
            "        \"not good solution\",\n",
            "        \"no help\",\n",
            "        \"wasted my time\",\n",
            "        \"useless bot\",\n",
            "        \"create a ticket\"\n",
            "      ],\n",
            "      \"responses\": [\n",
            "        \"Tarnsferring the request to your PM\"\n",
            "      ],\n",
            "      \"context_set\": \"\"\n",
            "    }\n",
            "  ]\n",
            "}\n"
          ]
        }
      ]
    },
    {
      "cell_type": "markdown",
      "source": [
        "Now we do some of our newly-acquired NLP tricks on that data to train a model."
      ],
      "metadata": {
        "id": "ttlf-JEneuiT"
      }
    },
    {
      "cell_type": "code",
      "source": [
        "import nltk\n",
        "nltk.download('punkt') # once per machine\n",
        "nltk.download('wordnet') # same\n",
        "nltk.download('omw-1.4') # same"
      ],
      "metadata": {
        "colab": {
          "base_uri": "https://localhost:8080/"
        },
        "id": "syZoVoLLgSo0",
        "outputId": "78772eb6-0983-4362-f77a-19d7fd3ce560"
      },
      "execution_count": 16,
      "outputs": [
        {
          "output_type": "stream",
          "name": "stderr",
          "text": [
            "[nltk_data] Downloading package punkt to /root/nltk_data...\n",
            "[nltk_data]   Package punkt is already up-to-date!\n",
            "[nltk_data] Downloading package wordnet to /root/nltk_data...\n",
            "[nltk_data]   Package wordnet is already up-to-date!\n",
            "[nltk_data] Downloading package omw-1.4 to /root/nltk_data...\n"
          ]
        },
        {
          "output_type": "execute_result",
          "data": {
            "text/plain": [
              "True"
            ]
          },
          "metadata": {},
          "execution_count": 16
        }
      ]
    },
    {
      "cell_type": "code",
      "source": [
        "l = nltk.WordNetLemmatizer()\n",
        "words = set()\n",
        "documents = list()\n",
        "classes = set()\n",
        "for i in intents['intents']:\n",
        "  t = i['tag']\n",
        "  classes.add(t)\n",
        "  for p in i['patterns']:\n",
        "    tokens = set([ l.lemmatize(w.lower()) for w in nltk.word_tokenize(p) ])\n",
        "    documents.append((tokens, t))\n",
        "    words |= tokens"
      ],
      "metadata": {
        "id": "-eRJ3us6e05f"
      },
      "execution_count": 79,
      "outputs": []
    },
    {
      "cell_type": "markdown",
      "source": [
        "Let's take a look at what we have."
      ],
      "metadata": {
        "id": "jU7iei-ygkZ0"
      }
    },
    {
      "cell_type": "code",
      "source": [
        "words = sorted(list(words))\n",
        "classes = sorted(list(classes))\n",
        "print(words[:10])\n",
        "print(words[-10:])\n",
        "print(classes)\n",
        "print(len(documents))"
      ],
      "metadata": {
        "colab": {
          "base_uri": "https://localhost:8080/"
        },
        "id": "CxkGZEcwgGz0",
        "outputId": "e70dafc0-7c2a-4225-9073-1a4b663cd1b3"
      },
      "execution_count": 86,
      "outputs": [
        {
          "output_type": "stream",
          "name": "stdout",
          "text": [
            "['a', 'able', 'access', 'activation', 'ada', 'adam', 'aifl', 'aiml', 'am', 'an']\n",
            "['who', 'whom', 'window', 'with', 'work', 'working', 'ya', 'yo', 'you', 'your']\n",
            "['Bot', 'Exit', 'Intro', 'NN', 'Olympus', 'Profane', 'SL', 'Ticket']\n",
            "128\n"
          ]
        }
      ]
    },
    {
      "cell_type": "markdown",
      "source": [
        "Now we can make a training set associating bags of words to the classes (tags)."
      ],
      "metadata": {
        "id": "gOuHqOFWgr_R"
      }
    },
    {
      "cell_type": "code",
      "source": [
        "training = []\n",
        "k = len(classes)\n",
        "for (pattern, tag) in documents:\n",
        "    # binary yes/no for which words appear in a pattern\n",
        "    BoW = [ 1 * (w in pattern) for w in words ] # 1 if word in pattern, 0 if not \n",
        "    label = [0] * k # a blank slate for one-hot\n",
        "    label[classes.index(tag)] = 1 # this is the desired class\n",
        "    training.append([BoW, label])\n",
        "print(len(training))\n",
        "for t in range(5):\n",
        "  bag, tag = training[t]\n",
        "  print(sum(bag), tag)\n",
        "for t in range(5):\n",
        "  bag, tag = training[-t]\n",
        "  print(sum(bag), tag)"
      ],
      "metadata": {
        "colab": {
          "base_uri": "https://localhost:8080/"
        },
        "id": "E5sVzOF0hEqU",
        "outputId": "cb4b3666-c544-4d81-928e-9622957ca665"
      },
      "execution_count": 91,
      "outputs": [
        {
          "output_type": "stream",
          "name": "stdout",
          "text": [
            "128\n",
            "1 [0, 0, 1, 0, 0, 0, 0, 0]\n",
            "3 [0, 0, 1, 0, 0, 0, 0, 0]\n",
            "3 [0, 0, 1, 0, 0, 0, 0, 0]\n",
            "1 [0, 0, 1, 0, 0, 0, 0, 0]\n",
            "2 [0, 0, 1, 0, 0, 0, 0, 0]\n",
            "1 [0, 0, 1, 0, 0, 0, 0, 0]\n",
            "3 [0, 0, 0, 0, 0, 0, 0, 1]\n",
            "2 [0, 0, 0, 0, 0, 0, 0, 1]\n",
            "3 [0, 0, 0, 0, 0, 0, 0, 1]\n",
            "2 [0, 0, 0, 0, 0, 0, 0, 1]\n"
          ]
        }
      ]
    },
    {
      "cell_type": "markdown",
      "source": [
        "We should put that in random order."
      ],
      "metadata": {
        "id": "AXZeVYPEik_g"
      }
    },
    {
      "cell_type": "code",
      "source": [
        "from random import shuffle\n",
        "shuffle(training)\n",
        "# just going to use all of it, we are not just now interested in saving some for testing\n",
        "X = [ t[0] for t in training ]\n",
        "Y = [ t[1] for t in training ]\n",
        "print(len(X), len(Y))"
      ],
      "metadata": {
        "colab": {
          "base_uri": "https://localhost:8080/"
        },
        "id": "C-ZpwjDcim9c",
        "outputId": "e900d41b-99a6-4bf7-ade4-5413153b8fd0"
      },
      "execution_count": 92,
      "outputs": [
        {
          "output_type": "stream",
          "name": "stdout",
          "text": [
            "128 128\n"
          ]
        }
      ]
    },
    {
      "cell_type": "markdown",
      "source": [
        "We can train a model now. As in the tutorial, we pick a sequential neural network."
      ],
      "metadata": {
        "id": "YhQvJ_hgjI_2"
      }
    },
    {
      "cell_type": "code",
      "source": [
        "from tensorflow.keras.models import Sequential\n",
        "from tensorflow.keras.layers import Dense, Activation, Dropout\n",
        "from tensorflow.keras.optimizers import SGD\n",
        "n = len(X)\n",
        "h = len(X[0])\n",
        "k = len(Y[0])\n",
        "print(n, h, k)\n",
        "m = Sequential()\n",
        "t = 0.5\n",
        "a = 'relu'\n",
        "m.add(Dense(n, input_shape = (h, ), activation = a))\n",
        "m.add(Dropout(t))\n",
        "m.add(Dense(n // 2, activation = a))\n",
        "m.add(Dropout(t))\n",
        "m.add(Dense(n // 2, activation = a))\n",
        "m.add(Dense(k, activation = 'softmax')) # just pick one class\n",
        "print(m.summary())"
      ],
      "metadata": {
        "colab": {
          "base_uri": "https://localhost:8080/"
        },
        "id": "jXBF2O2JjVC8",
        "outputId": "3ccf3234-c0e4-4f5e-a761-2b850a004151"
      },
      "execution_count": 101,
      "outputs": [
        {
          "output_type": "stream",
          "name": "stdout",
          "text": [
            "128 158 8\n",
            "Model: \"sequential_19\"\n",
            "_________________________________________________________________\n",
            " Layer (type)                Output Shape              Param #   \n",
            "=================================================================\n",
            " dense_73 (Dense)            (None, 128)               20352     \n",
            "                                                                 \n",
            " dropout_36 (Dropout)        (None, 128)               0         \n",
            "                                                                 \n",
            " dense_74 (Dense)            (None, 64)                8256      \n",
            "                                                                 \n",
            " dropout_37 (Dropout)        (None, 64)                0         \n",
            "                                                                 \n",
            " dense_75 (Dense)            (None, 64)                4160      \n",
            "                                                                 \n",
            " dense_76 (Dense)            (None, 8)                 520       \n",
            "                                                                 \n",
            "=================================================================\n",
            "Total params: 33,288\n",
            "Trainable params: 33,288\n",
            "Non-trainable params: 0\n",
            "_________________________________________________________________\n",
            "None\n"
          ]
        }
      ]
    },
    {
      "cell_type": "markdown",
      "source": [
        "So what did we build?"
      ],
      "metadata": {
        "id": "3fYjC3cwlf5L"
      }
    },
    {
      "cell_type": "code",
      "source": [
        "from tensorflow.keras.utils import plot_model\n",
        "plot_model(m, show_shapes = True, show_layer_names = True)"
      ],
      "metadata": {
        "colab": {
          "base_uri": "https://localhost:8080/",
          "height": 754
        },
        "id": "oe0G2CsJlh9n",
        "outputId": "2fef8cff-ce96-4a7a-db72-44a87f175031"
      },
      "execution_count": 94,
      "outputs": [
        {
          "output_type": "execute_result",
          "data": {
            "text/plain": [
              "<IPython.core.display.Image object>"
            ],
            "image/png": "[encoded data removed]"
          },
          "metadata": {},
          "execution_count": 94
        }
      ]
    },
    {
      "cell_type": "markdown",
      "source": [
        "Set up the fitting and get on with it."
      ],
      "metadata": {
        "id": "8DHv2ozikntN"
      }
    },
    {
      "cell_type": "code",
      "source": [
        "m.compile(loss = 'categorical_crossentropy', \n",
        "          optimizer = SGD(learning_rate = 0.01, \n",
        "                          decay = 1e-5, \n",
        "                          momentum = 0.8, \n",
        "                          nesterov = True), \n",
        "          metrics = ['categorical_accuracy'])\n",
        "import numpy as np\n",
        "f = m.fit(np.array(X), np.array(Y), epochs = 100, batch_size = 10, verbose = 1) # just a little for a quick demo"
      ],
      "metadata": {
        "colab": {
          "base_uri": "https://localhost:8080/"
        },
        "id": "QrDawtidkaRi",
        "outputId": "3de75055-b2a7-440a-b334-4570bcd540dd"
      },
      "execution_count": 102,
      "outputs": [
        {
          "output_type": "stream",
          "name": "stdout",
          "text": [
            "Epoch 1/100\n",
            "13/13 [==============================] - 1s 2ms/step - loss: 2.0911 - categorical_accuracy: 0.1094\n",
            "Epoch 2/100\n",
            "13/13 [==============================] - 0s 3ms/step - loss: 2.0274 - categorical_accuracy: 0.1953\n",
            "Epoch 3/100\n",
            "13/13 [==============================] - 0s 2ms/step - loss: 2.0204 - categorical_accuracy: 0.2266\n",
            "Epoch 4/100\n",
            "13/13 [==============================] - 0s 3ms/step - loss: 1.9929 - categorical_accuracy: 0.2031\n",
            "Epoch 5/100\n",
            "13/13 [==============================] - 0s 2ms/step - loss: 1.9781 - categorical_accuracy: 0.2344\n",
            "Epoch 6/100\n",
            "13/13 [==============================] - 0s 3ms/step - loss: 1.9746 - categorical_accuracy: 0.2188\n",
            "Epoch 7/100\n",
            "13/13 [==============================] - 0s 2ms/step - loss: 1.9108 - categorical_accuracy: 0.2578\n",
            "Epoch 8/100\n",
            "13/13 [==============================] - 0s 3ms/step - loss: 1.9244 - categorical_accuracy: 0.2188\n",
            "Epoch 9/100\n",
            "13/13 [==============================] - 0s 3ms/step - loss: 1.9026 - categorical_accuracy: 0.2812\n",
            "Epoch 10/100\n",
            "13/13 [==============================] - 0s 2ms/step - loss: 1.8809 - categorical_accuracy: 0.2578\n",
            "Epoch 11/100\n",
            "13/13 [==============================] - 0s 3ms/step - loss: 1.8630 - categorical_accuracy: 0.2578\n",
            "Epoch 12/100\n",
            "13/13 [==============================] - 0s 2ms/step - loss: 1.8448 - categorical_accuracy: 0.3047\n",
            "Epoch 13/100\n",
            "13/13 [==============================] - 0s 4ms/step - loss: 1.8278 - categorical_accuracy: 0.2734\n",
            "Epoch 14/100\n",
            "13/13 [==============================] - 0s 2ms/step - loss: 1.7752 - categorical_accuracy: 0.3281\n",
            "Epoch 15/100\n",
            "13/13 [==============================] - 0s 2ms/step - loss: 1.8025 - categorical_accuracy: 0.2734\n",
            "Epoch 16/100\n",
            "13/13 [==============================] - 0s 2ms/step - loss: 1.7978 - categorical_accuracy: 0.3281\n",
            "Epoch 17/100\n",
            "13/13 [==============================] - 0s 2ms/step - loss: 1.7504 - categorical_accuracy: 0.3828\n",
            "Epoch 18/100\n",
            "13/13 [==============================] - 0s 2ms/step - loss: 1.7022 - categorical_accuracy: 0.3672\n",
            "Epoch 19/100\n",
            "13/13 [==============================] - 0s 3ms/step - loss: 1.6241 - categorical_accuracy: 0.3828\n",
            "Epoch 20/100\n",
            "13/13 [==============================] - 0s 2ms/step - loss: 1.6102 - categorical_accuracy: 0.4062\n",
            "Epoch 21/100\n",
            "13/13 [==============================] - 0s 2ms/step - loss: 1.6070 - categorical_accuracy: 0.4141\n",
            "Epoch 22/100\n",
            "13/13 [==============================] - 0s 4ms/step - loss: 1.6176 - categorical_accuracy: 0.3828\n",
            "Epoch 23/100\n",
            "13/13 [==============================] - 0s 3ms/step - loss: 1.5741 - categorical_accuracy: 0.3828\n",
            "Epoch 24/100\n",
            "13/13 [==============================] - 0s 2ms/step - loss: 1.4692 - categorical_accuracy: 0.4844\n",
            "Epoch 25/100\n",
            "13/13 [==============================] - 0s 3ms/step - loss: 1.4694 - categorical_accuracy: 0.4609\n",
            "Epoch 26/100\n",
            "13/13 [==============================] - 0s 3ms/step - loss: 1.4879 - categorical_accuracy: 0.5156\n",
            "Epoch 27/100\n",
            "13/13 [==============================] - 0s 3ms/step - loss: 1.3793 - categorical_accuracy: 0.5312\n",
            "Epoch 28/100\n",
            "13/13 [==============================] - 0s 3ms/step - loss: 1.3686 - categorical_accuracy: 0.4609\n",
            "Epoch 29/100\n",
            "13/13 [==============================] - 0s 2ms/step - loss: 1.3615 - categorical_accuracy: 0.5391\n",
            "Epoch 30/100\n",
            "13/13 [==============================] - 0s 2ms/step - loss: 1.4027 - categorical_accuracy: 0.4219\n",
            "Epoch 31/100\n",
            "13/13 [==============================] - 0s 2ms/step - loss: 1.3569 - categorical_accuracy: 0.4844\n",
            "Epoch 32/100\n",
            "13/13 [==============================] - 0s 2ms/step - loss: 1.2757 - categorical_accuracy: 0.5625\n",
            "Epoch 33/100\n",
            "13/13 [==============================] - 0s 2ms/step - loss: 1.2724 - categorical_accuracy: 0.5078\n",
            "Epoch 34/100\n",
            "13/13 [==============================] - 0s 3ms/step - loss: 1.2218 - categorical_accuracy: 0.5859\n",
            "Epoch 35/100\n",
            "13/13 [==============================] - 0s 2ms/step - loss: 1.1840 - categorical_accuracy: 0.5391\n",
            "Epoch 36/100\n",
            "13/13 [==============================] - 0s 2ms/step - loss: 1.1680 - categorical_accuracy: 0.5703\n",
            "Epoch 37/100\n",
            "13/13 [==============================] - 0s 2ms/step - loss: 1.1144 - categorical_accuracy: 0.6094\n",
            "Epoch 38/100\n",
            "13/13 [==============================] - 0s 2ms/step - loss: 1.0758 - categorical_accuracy: 0.6172\n",
            "Epoch 39/100\n",
            "13/13 [==============================] - 0s 2ms/step - loss: 1.0646 - categorical_accuracy: 0.5938\n",
            "Epoch 40/100\n",
            "13/13 [==============================] - 0s 2ms/step - loss: 1.0330 - categorical_accuracy: 0.6719\n",
            "Epoch 41/100\n",
            "13/13 [==============================] - 0s 2ms/step - loss: 1.0047 - categorical_accuracy: 0.6406\n",
            "Epoch 42/100\n",
            "13/13 [==============================] - 0s 2ms/step - loss: 0.9225 - categorical_accuracy: 0.6562\n",
            "Epoch 43/100\n",
            "13/13 [==============================] - 0s 2ms/step - loss: 0.9224 - categorical_accuracy: 0.6641\n",
            "Epoch 44/100\n",
            "13/13 [==============================] - 0s 2ms/step - loss: 0.8245 - categorical_accuracy: 0.7188\n",
            "Epoch 45/100\n",
            "13/13 [==============================] - 0s 2ms/step - loss: 0.8203 - categorical_accuracy: 0.7188\n",
            "Epoch 46/100\n",
            "13/13 [==============================] - 0s 2ms/step - loss: 0.7859 - categorical_accuracy: 0.7500\n",
            "Epoch 47/100\n",
            "13/13 [==============================] - 0s 2ms/step - loss: 0.8484 - categorical_accuracy: 0.6953\n",
            "Epoch 48/100\n",
            "13/13 [==============================] - 0s 2ms/step - loss: 0.8952 - categorical_accuracy: 0.7031\n",
            "Epoch 49/100\n",
            "13/13 [==============================] - 0s 2ms/step - loss: 0.7071 - categorical_accuracy: 0.7344\n",
            "Epoch 50/100\n",
            "13/13 [==============================] - 0s 2ms/step - loss: 0.7203 - categorical_accuracy: 0.7344\n",
            "Epoch 51/100\n",
            "13/13 [==============================] - 0s 2ms/step - loss: 0.7247 - categorical_accuracy: 0.7188\n",
            "Epoch 52/100\n",
            "13/13 [==============================] - 0s 2ms/step - loss: 0.6390 - categorical_accuracy: 0.8203\n",
            "Epoch 53/100\n",
            "13/13 [==============================] - 0s 2ms/step - loss: 0.6173 - categorical_accuracy: 0.8203\n",
            "Epoch 54/100\n",
            "13/13 [==============================] - 0s 2ms/step - loss: 0.5821 - categorical_accuracy: 0.8125\n",
            "Epoch 55/100\n",
            "13/13 [==============================] - 0s 2ms/step - loss: 0.5626 - categorical_accuracy: 0.8828\n",
            "Epoch 56/100\n",
            "13/13 [==============================] - 0s 2ms/step - loss: 0.5816 - categorical_accuracy: 0.7969\n",
            "Epoch 57/100\n",
            "13/13 [==============================] - 0s 2ms/step - loss: 0.5549 - categorical_accuracy: 0.7969\n",
            "Epoch 58/100\n",
            "13/13 [==============================] - 0s 2ms/step - loss: 0.4630 - categorical_accuracy: 0.8672\n",
            "Epoch 59/100\n",
            "13/13 [==============================] - 0s 3ms/step - loss: 0.4879 - categorical_accuracy: 0.8828\n",
            "Epoch 60/100\n",
            "13/13 [==============================] - 0s 3ms/step - loss: 0.5096 - categorical_accuracy: 0.8438\n",
            "Epoch 61/100\n",
            "13/13 [==============================] - 0s 2ms/step - loss: 0.5161 - categorical_accuracy: 0.7969\n",
            "Epoch 62/100\n",
            "13/13 [==============================] - 0s 3ms/step - loss: 0.4771 - categorical_accuracy: 0.8828\n",
            "Epoch 63/100\n",
            "13/13 [==============================] - 0s 2ms/step - loss: 0.4253 - categorical_accuracy: 0.9062\n",
            "Epoch 64/100\n",
            "13/13 [==============================] - 0s 2ms/step - loss: 0.3726 - categorical_accuracy: 0.8984\n",
            "Epoch 65/100\n",
            "13/13 [==============================] - 0s 2ms/step - loss: 0.4128 - categorical_accuracy: 0.8984\n",
            "Epoch 66/100\n",
            "13/13 [==============================] - 0s 2ms/step - loss: 0.4538 - categorical_accuracy: 0.8438\n",
            "Epoch 67/100\n",
            "13/13 [==============================] - 0s 2ms/step - loss: 0.3328 - categorical_accuracy: 0.9219\n",
            "Epoch 68/100\n",
            "13/13 [==============================] - 0s 2ms/step - loss: 0.3608 - categorical_accuracy: 0.8672\n",
            "Epoch 69/100\n",
            "13/13 [==============================] - 0s 2ms/step - loss: 0.3160 - categorical_accuracy: 0.9453\n",
            "Epoch 70/100\n",
            "13/13 [==============================] - 0s 2ms/step - loss: 0.3649 - categorical_accuracy: 0.8750\n",
            "Epoch 71/100\n",
            "13/13 [==============================] - 0s 2ms/step - loss: 0.3364 - categorical_accuracy: 0.8906\n",
            "Epoch 72/100\n",
            "13/13 [==============================] - 0s 2ms/step - loss: 0.3500 - categorical_accuracy: 0.9141\n",
            "Epoch 73/100\n",
            "13/13 [==============================] - 0s 2ms/step - loss: 0.4175 - categorical_accuracy: 0.8516\n",
            "Epoch 74/100\n",
            "13/13 [==============================] - 0s 2ms/step - loss: 0.2936 - categorical_accuracy: 0.9297\n",
            "Epoch 75/100\n",
            "13/13 [==============================] - 0s 2ms/step - loss: 0.3062 - categorical_accuracy: 0.8984\n",
            "Epoch 76/100\n",
            "13/13 [==============================] - 0s 2ms/step - loss: 0.3225 - categorical_accuracy: 0.8906\n",
            "Epoch 77/100\n",
            "13/13 [==============================] - 0s 3ms/step - loss: 0.2975 - categorical_accuracy: 0.9219\n",
            "Epoch 78/100\n",
            "13/13 [==============================] - 0s 2ms/step - loss: 0.2748 - categorical_accuracy: 0.9141\n",
            "Epoch 79/100\n",
            "13/13 [==============================] - 0s 2ms/step - loss: 0.2461 - categorical_accuracy: 0.9141\n",
            "Epoch 80/100\n",
            "13/13 [==============================] - 0s 2ms/step - loss: 0.2630 - categorical_accuracy: 0.9141\n",
            "Epoch 81/100\n",
            "13/13 [==============================] - 0s 2ms/step - loss: 0.2818 - categorical_accuracy: 0.9141\n",
            "Epoch 82/100\n",
            "13/13 [==============================] - 0s 2ms/step - loss: 0.2199 - categorical_accuracy: 0.9219\n",
            "Epoch 83/100\n",
            "13/13 [==============================] - 0s 2ms/step - loss: 0.2658 - categorical_accuracy: 0.8906\n",
            "Epoch 84/100\n",
            "13/13 [==============================] - 0s 2ms/step - loss: 0.2350 - categorical_accuracy: 0.9453\n",
            "Epoch 85/100\n",
            "13/13 [==============================] - 0s 2ms/step - loss: 0.1823 - categorical_accuracy: 0.9688\n",
            "Epoch 86/100\n",
            "13/13 [==============================] - 0s 2ms/step - loss: 0.1708 - categorical_accuracy: 0.9766\n",
            "Epoch 87/100\n",
            "13/13 [==============================] - 0s 3ms/step - loss: 0.2209 - categorical_accuracy: 0.9375\n",
            "Epoch 88/100\n",
            "13/13 [==============================] - 0s 3ms/step - loss: 0.3039 - categorical_accuracy: 0.9453\n",
            "Epoch 89/100\n",
            "13/13 [==============================] - 0s 2ms/step - loss: 0.2327 - categorical_accuracy: 0.8984\n",
            "Epoch 90/100\n",
            "13/13 [==============================] - 0s 2ms/step - loss: 0.1767 - categorical_accuracy: 0.9531\n",
            "Epoch 91/100\n",
            "13/13 [==============================] - 0s 2ms/step - loss: 0.1422 - categorical_accuracy: 0.9688\n",
            "Epoch 92/100\n",
            "13/13 [==============================] - 0s 2ms/step - loss: 0.2324 - categorical_accuracy: 0.9219\n",
            "Epoch 93/100\n",
            "13/13 [==============================] - 0s 2ms/step - loss: 0.1844 - categorical_accuracy: 0.9453\n",
            "Epoch 94/100\n",
            "13/13 [==============================] - 0s 2ms/step - loss: 0.2468 - categorical_accuracy: 0.9141\n",
            "Epoch 95/100\n",
            "13/13 [==============================] - 0s 2ms/step - loss: 0.1301 - categorical_accuracy: 0.9766\n",
            "Epoch 96/100\n",
            "13/13 [==============================] - 0s 2ms/step - loss: 0.1857 - categorical_accuracy: 0.9375\n",
            "Epoch 97/100\n",
            "13/13 [==============================] - 0s 2ms/step - loss: 0.1997 - categorical_accuracy: 0.9297\n",
            "Epoch 98/100\n",
            "13/13 [==============================] - 0s 2ms/step - loss: 0.2024 - categorical_accuracy: 0.9531\n",
            "Epoch 99/100\n",
            "13/13 [==============================] - 0s 2ms/step - loss: 0.1878 - categorical_accuracy: 0.9297\n",
            "Epoch 100/100\n",
            "13/13 [==============================] - 0s 2ms/step - loss: 0.1508 - categorical_accuracy: 0.9609\n"
          ]
        }
      ]
    },
    {
      "cell_type": "markdown",
      "source": [
        "Now, how do we use this model to generate bot responses? We need to figure out the tag for whatever the user writes and then pick a response based on that."
      ],
      "metadata": {
        "id": "2JI7hhSupuGj"
      }
    },
    {
      "cell_type": "code",
      "source": [
        "userinput = input('Write here to what you want the bot to respond: ')"
      ],
      "metadata": {
        "colab": {
          "base_uri": "https://localhost:8080/"
        },
        "id": "zzPVMdHLqWZG",
        "outputId": "558271f7-9047-4bec-a139-a65245c98044"
      },
      "execution_count": 122,
      "outputs": [
        {
          "name": "stdout",
          "output_type": "stream",
          "text": [
            "Write here to what you want the bot to respond: This service sucks, I have been waiting for ever.\n"
          ]
        }
      ]
    },
    {
      "cell_type": "code",
      "source": [
        "uw = set([ l.lemmatize(w) for w in nltk.word_tokenize(userinput) ])\n",
        "BoW = [ 1 * (w in uw) for w in words ]\n",
        "print(len(BoW))\n",
        "threshold = 0.3 # discard unpromising results\n",
        "p = m.predict(np.array([BoW]))[0] # predict just this one data point\n",
        "print(classes) # reminder\n",
        "for outcome, label in zip(p, classes):\n",
        "  if outcome > threshold: # could be a match\n",
        "    print(outcome, label)"
      ],
      "metadata": {
        "colab": {
          "base_uri": "https://localhost:8080/"
        },
        "id": "hCEbqX1jp61q",
        "outputId": "57e0c794-2c11-4996-eb8c-49088ff754e4"
      },
      "execution_count": 123,
      "outputs": [
        {
          "output_type": "stream",
          "name": "stdout",
          "text": [
            "158\n",
            "['Bot', 'Exit', 'Intro', 'NN', 'Olympus', 'Profane', 'SL', 'Ticket']\n",
            "0.74491495 Intro\n"
          ]
        }
      ]
    },
    {
      "cell_type": "markdown",
      "source": [
        "If there is a clear winner, we can just use that."
      ],
      "metadata": {
        "id": "OeB-cf4FtvLR"
      }
    },
    {
      "cell_type": "code",
      "source": [
        "best = np.argmax(p) # use the highest as our match\n",
        "chosen = classes[best] # the class to use to respond\n",
        "print(f'Chose class {chosen}')\n",
        "from random import choice # we pick one at random\n",
        "for i in intents['intents']:\n",
        "  if i['tag'] == chosen: \n",
        "    print(choice(i['responses']))\n",
        "    break"
      ],
      "metadata": {
        "colab": {
          "base_uri": "https://localhost:8080/"
        },
        "id": "DDif8CPSt0q3",
        "outputId": "81e79fd3-b5f3-4fd3-aeb2-913acaa9a3ff"
      },
      "execution_count": 124,
      "outputs": [
        {
          "output_type": "stream",
          "name": "stdout",
          "text": [
            "Chose class Intro\n",
            "Hello! how can i help you ?\n"
          ]
        }
      ]
    },
    {
      "cell_type": "markdown",
      "source": [
        "You can go run the cell above that takes a user input to try again."
      ],
      "metadata": {
        "id": "yIAmWTs2uEpS"
      }
    }
  ]
}